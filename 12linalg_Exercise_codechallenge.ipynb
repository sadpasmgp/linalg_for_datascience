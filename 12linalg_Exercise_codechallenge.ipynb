{
 "cells": [
  {
   "cell_type": "markdown",
   "metadata": {},
   "source": [
    "Create two vectors with random integer elements\n",
    "Compute the lengths of individual vectors and their magnitude dot product\n",
    "Normalize the vectors('create unit vector along same direction')\n",
    "Then compute magnitude of that dot product"
   ]
  },
  {
   "cell_type": "code",
   "execution_count": 12,
   "metadata": {},
   "outputs": [],
   "source": [
    "import numpy as np\n",
    "import matplotlib.pyplot as plt"
   ]
  },
  {
   "cell_type": "code",
   "execution_count": 6,
   "metadata": {},
   "outputs": [],
   "source": [
    "a = np.random.randint(0,10,5)\n",
    "b = np.random.randint(0,20,5)"
   ]
  },
  {
   "cell_type": "code",
   "execution_count": 9,
   "metadata": {},
   "outputs": [
    {
     "name": "stdout",
     "output_type": "stream",
     "text": [
      "12.569805089976535\n",
      "18.49324200890693\n"
     ]
    }
   ],
   "source": [
    "#length of individual vectors\n",
    "\n",
    "print(np.linalg.norm(a))\n",
    "print(np.linalg.norm(b))"
   ]
  },
  {
   "cell_type": "code",
   "execution_count": 10,
   "metadata": {},
   "outputs": [
    {
     "name": "stdout",
     "output_type": "stream",
     "text": [
      "207\n"
     ]
    }
   ],
   "source": [
    "#magnitude od dot products\n",
    "\n",
    "print(np.dot(a,b))"
   ]
  },
  {
   "cell_type": "code",
   "execution_count": 23,
   "metadata": {},
   "outputs": [
    {
     "data": {
      "image/png": "[encoded data removed]",
      "text/plain": [
       "<Figure size 432x288 with 1 Axes>"
      ]
     },
     "metadata": {
      "needs_background": "light"
     },
     "output_type": "display_data"
    }
   ],
   "source": [
    "#normalizing the vectors and plotting them\n",
    "\n",
    "a = np.random.randint(0,10,2)#2D vector\n",
    "b = np.random.randint(0,10,2)#2D vector\n",
    "\n",
    "mu_a = 1/np.linalg.norm(a)\n",
    "mu_b = 1/np.linalg.norm(b)\n",
    "\n",
    "v1a = a*mu_a\n",
    "v1b = b*mu_b\n",
    "\n",
    "# plot them\n",
    "plt.plot([0, a[0]],[0, a[1]],'b--',label='a')\n",
    "plt.plot([0, b[0]],[0, b[1]],'b--',label='b')\n",
    "\n",
    "h=plt.plot([0, v1a[0]],[0, v1a[1]],'r',label='v1a-norm')\n",
    "plt.setp(h,linewidth=5)\n",
    "\n",
    "k=plt.plot([0, v1b[0]],[0, v1b[1]],'g',label='v1b-norm')\n",
    "plt.setp(k,linewidth=5)\n",
    "\n",
    "\n",
    "# axis square\n",
    "plt.axis('square')\n",
    "plt.axis(( -6, 6, -6, 6 ))\n",
    "plt.grid()\n",
    "plt.legend()\n",
    "plt.show()"
   ]
  },
  {
   "cell_type": "code",
   "execution_count": 25,
   "metadata": {},
   "outputs": [
    {
     "name": "stdout",
     "output_type": "stream",
     "text": [
      "0.8877545314489295\n"
     ]
    }
   ],
   "source": [
    "#magnitude of dot product is \n",
    "\n",
    "print(np.dot(v1a,v1b))\n"
   ]
  }
 ],
 "metadata": {
  "kernelspec": {
   "display_name": "Python 3",
   "language": "python",
   "name": "python3"
  },
  "language_info": {
   "codemirror_mode": {
    "name": "ipython",
    "version": 3
   },
   "file_extension": ".py",
   "mimetype": "text/x-python",
   "name": "python",
   "nbconvert_exporter": "python",
   "pygments_lexer": "ipython3",
   "version": "3.7.3"
  }
 },
 "nbformat": 4,
 "nbformat_minor": 2
}

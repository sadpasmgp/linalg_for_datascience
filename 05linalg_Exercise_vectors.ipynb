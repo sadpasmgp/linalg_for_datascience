{
 "cells": [
  {
   "cell_type": "markdown",
   "metadata": {},
   "source": [
    "##Create 2 4*6 and 6*4 matrices of random numbers\n",
    "#compute dot products between corresponding columns"
   ]
  },
  {
   "cell_type": "code",
   "execution_count": 55,
   "metadata": {},
   "outputs": [],
   "source": [
    "import numpy as np\n",
    "from numpy.random import randn"
   ]
  },
  {
   "cell_type": "code",
   "execution_count": 56,
   "metadata": {},
   "outputs": [
    {
     "data": {
      "text/plain": [
       "array([[ 0.66752026,  0.53575526, -1.2240298 ,  0.57391152,  0.9127457 ,\n",
       "        -1.08958752],\n",
       "       [-0.62734074, -0.02465   ,  0.15452266,  0.58785812, -0.74376161,\n",
       "         0.48644862],\n",
       "       [-0.49853569,  0.13180322, -0.12041444, -0.02716857,  0.60298282,\n",
       "         1.19020741],\n",
       "       [ 0.31143474,  1.62031693, -0.12338744,  1.00829513, -1.04372955,\n",
       "         0.11595564]])"
      ]
     },
     "execution_count": 56,
     "metadata": {},
     "output_type": "execute_result"
    }
   ],
   "source": [
    "A = randn(4,6)\n",
    "A"
   ]
  },
  {
   "cell_type": "code",
   "execution_count": 57,
   "metadata": {},
   "outputs": [
    {
     "data": {
      "text/plain": [
       "array([[ 0.3288836 , -1.0767036 ,  2.00539783, -1.19922218],\n",
       "       [ 1.43920581, -0.49776812, -0.23543042, -0.26976785],\n",
       "       [-0.3564191 , -1.32753472,  0.59244951,  0.25117196],\n",
       "       [ 0.107255  ,  0.06860965, -1.34704736,  0.96626281],\n",
       "       [ 0.07300441,  0.62858933,  0.39944798,  1.38875875],\n",
       "       [ 0.5033232 ,  0.60783497,  0.68543127, -0.34932122]])"
      ]
     },
     "execution_count": 57,
     "metadata": {},
     "output_type": "execute_result"
    }
   ],
   "source": [
    "B = randn(6,4)\n",
    "B"
   ]
  },
  {
   "cell_type": "code",
   "execution_count": 58,
   "metadata": {},
   "outputs": [
    {
     "name": "stdout",
     "output_type": "stream",
     "text": [
      "[[ 1.00664082  0.59036738 -0.66799419  0.95027237]\n",
      " [-0.04327961  0.35108843 -1.91625722  0.16297562]\n",
      " [ 0.70881519  1.73163631 -0.00886935  0.92743504]\n",
      " [ 2.56868396 -1.49448048 -1.52567951 -1.35729655]]\n"
     ]
    }
   ],
   "source": [
    "#now to verify if the answer is correct, do dot product with a diff method\n",
    "dp = np.dot(A,B)\n",
    "print(dp)"
   ]
  },
  {
   "cell_type": "code",
   "execution_count": 61,
   "metadata": {},
   "outputs": [
    {
     "data": {
      "text/plain": [
       "array([[ 1.00664082,  0.59036738, -0.66799419,  0.95027237],\n",
       "       [-0.04327961,  0.35108843, -1.91625722,  0.16297562],\n",
       "       [ 0.70881519,  1.73163631, -0.00886935,  0.92743504],\n",
       "       [ 2.56868396, -1.49448048, -1.52567951, -1.35729655]])"
      ]
     },
     "execution_count": 61,
     "metadata": {},
     "output_type": "execute_result"
    }
   ],
   "source": [
    "dp = np.matmul(A,B)\n",
    "dp"
   ]
  },
  {
   "cell_type": "code",
   "execution_count": null,
   "metadata": {},
   "outputs": [],
   "source": []
  }
 ],
 "metadata": {
  "kernelspec": {
   "display_name": "Python 3",
   "language": "python",
   "name": "python3"
  },
  "language_info": {
   "codemirror_mode": {
    "name": "ipython",
    "version": 3
   },
   "file_extension": ".py",
   "mimetype": "text/x-python",
   "name": "python",
   "nbconvert_exporter": "python",
   "pygments_lexer": "ipython3",
   "version": "3.7.3"
  }
 },
 "nbformat": 4,
 "nbformat_minor": 2
}

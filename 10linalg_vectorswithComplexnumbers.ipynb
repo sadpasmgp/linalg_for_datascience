{
 "cells": [
  {
   "cell_type": "markdown",
   "metadata": {},
   "source": [
    "i -> sqrt(-1)\n",
    "Let x be sqrt(-1)\n",
    "=> x**2 = -1\n",
    "=> x**2+1 = 0"
   ]
  },
  {
   "cell_type": "markdown",
   "metadata": {},
   "source": [
    "A complex vector can be conceptualized as a 2D vector, where second element is imaginary number.\n",
    "\n",
    "Let z and w be 2 comnplex numbers\n",
    "z = a+bi\n",
    "w = c+di\n",
    "\n",
    "multiplying them,\n",
    "z*w = (a+bi)(c+di) = ac + adi +cbi - bd"
   ]
  },
  {
   "cell_type": "code",
   "execution_count": 3,
   "metadata": {},
   "outputs": [],
   "source": [
    "import numpy as np\n",
    "import matplotlib.pyplot as plt"
   ]
  },
  {
   "cell_type": "code",
   "execution_count": 17,
   "metadata": {},
   "outputs": [],
   "source": [
    "#Let us multiply 2 complex vectors\n",
    "\n",
    "a = np.ndarray(10, dtype=np.complex64)\n",
    "b = np.ndarray(10, dtype=np.complex64)"
   ]
  },
  {
   "cell_type": "code",
   "execution_count": 16,
   "metadata": {},
   "outputs": [
    {
     "data": {
      "text/plain": [
       "array([5.3265527e-39+7.8061461e-39j, 7.6224751e-39+8.4489778e-39j,\n",
       "       1.0102060e-38+8.9081833e-39j, 8.4490030e-39+9.6428882e-39j,\n",
       "       9.0918500e-39+8.9081931e-39j, 8.9081959e-39+1.0285738e-38j,\n",
       "       9.0000258e-39+8.7245011e-39j, 1.0469409e-38+9.6428630e-39j,\n",
       "       8.9081945e-39+1.0193910e-38j, 1.6955711e-43+0.0000000e+00j],\n",
       "      dtype=complex64)"
      ]
     },
     "execution_count": 16,
     "metadata": {},
     "output_type": "execute_result"
    }
   ],
   "source": [
    "a"
   ]
  },
  {
   "cell_type": "code",
   "execution_count": 18,
   "metadata": {},
   "outputs": [
    {
     "data": {
      "text/plain": [
       "array([5.7857652e-39+8.4489539e-39j, 5.3265527e-39+7.8061461e-39j,\n",
       "       9.2755463e-39+1.0561242e-38j, 7.6224751e-39+8.4489778e-39j,\n",
       "       1.0101996e-38+9.0918500e-39j, 1.0102060e-38+8.9081833e-39j,\n",
       "       8.4489371e-39+9.6428784e-39j, 8.4490030e-39+9.6428896e-39j,\n",
       "       9.2755379e-39+1.0653065e-38j, 1.0285640e-38+1.6955711e-43j],\n",
       "      dtype=complex64)"
      ]
     },
     "execution_count": 18,
     "metadata": {},
     "output_type": "execute_result"
    }
   ],
   "source": [
    "b"
   ]
  },
  {
   "cell_type": "code",
   "execution_count": 19,
   "metadata": {},
   "outputs": [
    {
     "data": {
      "text/plain": [
       "array([0.+0.j, 0.+0.j, 0.+0.j, 0.+0.j, 0.+0.j, 0.+0.j, 0.+0.j, 0.+0.j,\n",
       "       0.+0.j, 0.+0.j], dtype=complex64)"
      ]
     },
     "execution_count": 19,
     "metadata": {},
     "output_type": "execute_result"
    }
   ],
   "source": [
    "np.transpose(a)*b"
   ]
  },
  {
   "cell_type": "code",
   "execution_count": 20,
   "metadata": {},
   "outputs": [
    {
     "data": {
      "text/plain": [
       "0j"
      ]
     },
     "execution_count": 20,
     "metadata": {},
     "output_type": "execute_result"
    }
   ],
   "source": [
    "np.dot(a,b)"
   ]
  },
  {
   "cell_type": "code",
   "execution_count": 21,
   "metadata": {},
   "outputs": [],
   "source": [
    "c = np.array([1+3j, -2j , 4, 5])\n",
    "d = np.array([6+2j, 8,3j,-5])"
   ]
  },
  {
   "cell_type": "code",
   "execution_count": 22,
   "metadata": {},
   "outputs": [
    {
     "data": {
      "text/plain": [
       "(-25+16j)"
      ]
     },
     "execution_count": 22,
     "metadata": {},
     "output_type": "execute_result"
    }
   ],
   "source": [
    "np.dot(c,d)"
   ]
  },
  {
   "cell_type": "code",
   "execution_count": 24,
   "metadata": {},
   "outputs": [
    {
     "data": {
      "text/plain": [
       "array([  0.+20.j,   0.-16.j,   0.+12.j, -25. +0.j])"
      ]
     },
     "execution_count": 24,
     "metadata": {},
     "output_type": "execute_result"
    }
   ],
   "source": [
    "np.multiply(c,d)"
   ]
  },
  {
   "cell_type": "code",
   "execution_count": 25,
   "metadata": {},
   "outputs": [
    {
     "data": {
      "text/plain": [
       "array([[  0.+20.j,   8.+24.j,  -9. +3.j,  -5.-15.j],\n",
       "       [  4.-12.j,   0.-16.j,   6. -0.j,   0.+10.j],\n",
       "       [ 24. +8.j,  32. +0.j,   0.+12.j, -20. +0.j],\n",
       "       [ 30.+10.j,  40. +0.j,   0.+15.j, -25. +0.j]])"
      ]
     },
     "execution_count": 25,
     "metadata": {},
     "output_type": "execute_result"
    }
   ],
   "source": [
    "np.outer(c,d)"
   ]
  },
  {
   "cell_type": "code",
   "execution_count": null,
   "metadata": {},
   "outputs": [],
   "source": []
  }
 ],
 "metadata": {
  "kernelspec": {
   "display_name": "Python 3",
   "language": "python",
   "name": "python3"
  },
  "language_info": {
   "codemirror_mode": {
    "name": "ipython",
    "version": 3
   },
   "file_extension": ".py",
   "mimetype": "text/x-python",
   "name": "python",
   "nbconvert_exporter": "python",
   "pygments_lexer": "ipython3",
   "version": "3.7.3"
  }
 },
 "nbformat": 4,
 "nbformat_minor": 2
}

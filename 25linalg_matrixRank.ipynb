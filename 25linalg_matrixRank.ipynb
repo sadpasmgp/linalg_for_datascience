{
 "cells": [
  {
   "cell_type": "markdown",
   "metadata": {},
   "source": [
    "In linear algebra, the rank of a matrix A is the dimension of the vector space generated (or spanned) by its columns.\n",
    "\n",
    "This corresponds to the maximal number of linearly independent columns of A. This, in turn, is identical to the dimension of the vector space spanned by its rows.\n",
    "    \n",
    "Rank is thus a measure of the \"nondegenerateness\" of the system of linear equations and linear transformation encoded by A. There are multiple equivalent definitions of rank. A matrix's rank is one of its most fundamental characteristics.\n",
    "\n",
    "The rank is commonly denoted by rank(A) or rk( A ); sometimes the parentheses are not written, as in rank ⁡A."
   ]
  },
  {
   "cell_type": "markdown",
   "metadata": {},
   "source": [
    "maximum possible rank could be for a mtrix is, max(r) = min(m,n)\n",
    "\n",
    "r E N, s.t. 0<=r<=min{m,n}"
   ]
  },
  {
   "cell_type": "code",
   "execution_count": null,
   "metadata": {},
   "outputs": [],
   "source": [
    "There is no seperate rank for columns or rows for a matrix."
   ]
  },
  {
   "cell_type": "markdown",
   "metadata": {},
   "source": [
    "rank(A) with mXm = m => Full rank matrix\n",
    "\n",
    "rank(A) with m>n = n => Full column rank\n",
    "\n",
    "rank(A) with m<n = m => Full row rank\n",
    "\n",
    "And if rank(A) with mXn < m,n => \"Reduced rank\" or \"Rank deficient\" or \"Degenerate\" or \"Low-rank or Singular\"\n"
   ]
  },
  {
   "cell_type": "code",
   "execution_count": null,
   "metadata": {},
   "outputs": [],
   "source": [
    "rank corresponds to a dimensionality embedded into a matrix. \n",
    "\n",
    "A = 1 1 0 1 2 1 2\n",
    "    2 1 0 5 6 2 1\n",
    "    \n",
    "    rank(A) = 2\n",
    "    \n",
    "A = 1  1 -4\n",
    "    2 -1  2\n",
    "    rank(A) = 2\n",
    "    \n",
    "A = "
   ]
  },
  {
   "cell_type": "markdown",
   "metadata": {},
   "source": [
    "The rank of a matrix is the largest number of columsn that can form a linearly independent set."
   ]
  },
  {
   "cell_type": "markdown",
   "metadata": {},
   "source": [
    "The matrix\n",
    "\n",
    " [ 1  0  1 \n",
    "  −2 −3  1\n",
    "   3  3  0 ] \n",
    "  \n",
    "has rank 2: the first two columns are linearly independent, so the rank is at least 2, but since the third is a linear combination of the first two (the second subtracted from the first), the three columns are linearly dependent so the rank must be less than 3.\n",
    "\n",
    "The matrix\n",
    "\n",
    "A = [ 1  1 0  2\n",
    "     −1 −1 0 −2 ] \n",
    "\n",
    "has rank 1: there are nonzero columns, so the rank is positive, but any pair of columns is linearly dependent. Similarly, the transpose\n",
    "\n",
    "    A.T = [ 1 − 1 \n",
    "            1 − 1\n",
    "            0   0 \n",
    "            2 − 2 ] \n",
    "            \n",
    "\n",
    "A has rank 1. Indeed, since the column vectors of A are the row vectors of the transpose of A, the statement that the column rank of a matrix equals its row rank is equivalent to the statement that the rank of a matrix is equal to the rank of its transpose, i.e., rank ( A ) = rank ⁡ ( A.T ) "
   ]
  },
  {
   "cell_type": "code",
   "execution_count": 1,
   "metadata": {},
   "outputs": [],
   "source": [
    "import numpy as np\n",
    "import matplotlib.pyplot as plt\n",
    "import math"
   ]
  },
  {
   "cell_type": "code",
   "execution_count": 2,
   "metadata": {},
   "outputs": [
    {
     "name": "stdout",
     "output_type": "stream",
     "text": [
      "rank=4\n"
     ]
    }
   ],
   "source": [
    "# make a matrix\n",
    "m = 4\n",
    "n = 6\n",
    "\n",
    "# create a random matrix\n",
    "A = np.random.randn(m,n)\n",
    "\n",
    "# what is the largest possible rank?\n",
    "ra = np.linalg.matrix_rank(A)\n",
    "print('rank=' + str(ra))\n"
   ]
  },
  {
   "cell_type": "code",
   "execution_count": 3,
   "metadata": {},
   "outputs": [
    {
     "name": "stdout",
     "output_type": "stream",
     "text": [
      "rank=4\n"
     ]
    }
   ],
   "source": [
    "\n",
    "# set last column to be repeat of penultimate column\n",
    "B = A\n",
    "B[:,n-1] = B[:,n-2]\n",
    "rb = np.linalg.matrix_rank(B)\n",
    "print('rank=' + str(rb))"
   ]
  },
  {
   "cell_type": "code",
   "execution_count": 4,
   "metadata": {},
   "outputs": [
    {
     "name": "stdout",
     "output_type": "stream",
     "text": [
      "rank (w/o noise) = 3\n",
      "rank (with noise) = 4\n"
     ]
    }
   ],
   "source": [
    "## adding noise to a rank-deficient matrix\n",
    "\n",
    "# square for convenience\n",
    "A = np.round( 10*np.random.randn(m,m) )\n",
    "\n",
    "# reduce the rank\n",
    "A[:,m-1] = A[:,m-2]\n",
    "\n",
    "# noise level\n",
    "noiseamp = .001\n",
    "\n",
    "# add the noise\n",
    "B = A + noiseamp*np.random.randn(m,m)\n",
    "\n",
    "print('rank (w/o noise) = ' + str(np.linalg.matrix_rank(A)))\n",
    "print('rank (with noise) = ' + str(np.linalg.matrix_rank(B)))"
   ]
  },
  {
   "cell_type": "markdown",
   "metadata": {},
   "source": [
    "\n",
    "---\n",
    "#Rank of A^TA and AA^T\n",
    "---\n"
   ]
  },
  {
   "cell_type": "code",
   "execution_count": 5,
   "metadata": {},
   "outputs": [
    {
     "name": "stdout",
     "output_type": "stream",
     "text": [
      "AtA: 3x3, rank=3\n",
      "AAt: 14x14, rank=3\n"
     ]
    }
   ],
   "source": [
    "# matrix sizes\n",
    "m = 14\n",
    "n =  3\n",
    "\n",
    "# create matrices\n",
    "A = np.round( 10*np.random.randn(m,n) )\n",
    "\n",
    "AtA = np.matrix.transpose(A)@A\n",
    "AAt = A@np.matrix.transpose(A)\n",
    "\n",
    "# get matrix sizes\n",
    "sizeAtA = AtA.shape\n",
    "sizeAAt = AAt.shape\n",
    "\n",
    "# print info!\n",
    "print('AtA: %dx%d, rank=%d' %(sizeAtA[0],sizeAtA[1],np.linalg.matrix_rank(AtA)))\n",
    "print('AAt: %dx%d, rank=%d' %(sizeAAt[0],sizeAAt[1],np.linalg.matrix_rank(AAt)))\n"
   ]
  },
  {
   "cell_type": "markdown",
   "metadata": {},
   "source": [
    "\n",
    "---\n",
    "# Making a matrix full-rank by \"shifting\"\n",
    "---\n"
   ]
  },
  {
   "cell_type": "code",
   "execution_count": 6,
   "metadata": {},
   "outputs": [
    {
     "name": "stdout",
     "output_type": "stream",
     "text": [
      "rank(w/o shift) = 29\n",
      "rank(with shift) = 30\n"
     ]
    }
   ],
   "source": [
    "# size of matrix\n",
    "m = 30\n",
    "\n",
    "# create the square symmetric matrix\n",
    "A = np.random.randn(m,m)\n",
    "A = np.round( 10*np.matrix.transpose(A)@A )\n",
    "\n",
    "# reduce the rank\n",
    "A[:,0] = A[:,1]\n",
    "\n",
    "# shift amount (l=lambda)\n",
    "l = .01\n",
    "\n",
    "# new matrix\n",
    "B = A + l*np.eye(m,m)\n",
    "\n",
    "# print information\n",
    "print('rank(w/o shift) = %d' %np.linalg.matrix_rank(A))\n",
    "print('rank(with shift) = %d' %np.linalg.matrix_rank(B))\n"
   ]
  },
  {
   "cell_type": "code",
   "execution_count": null,
   "metadata": {},
   "outputs": [],
   "source": []
  }
 ],
 "metadata": {
  "kernelspec": {
   "display_name": "Python 3",
   "language": "python",
   "name": "python3"
  },
  "language_info": {
   "codemirror_mode": {
    "name": "ipython",
    "version": 3
   },
   "file_extension": ".py",
   "mimetype": "text/x-python",
   "name": "python",
   "nbconvert_exporter": "python",
   "pygments_lexer": "ipython3",
   "version": "3.7.3"
  }
 },
 "nbformat": 4,
 "nbformat_minor": 2
}

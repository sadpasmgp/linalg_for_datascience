{
 "cells": [
  {
   "cell_type": "markdown",
   "metadata": {},
   "source": [
    "#Generate a 2X2 matrix with integers that have linear dependences, compute det(A)\n",
    "#Generate random nXn matrices with linear dependence.\n",
    "\n",
    "A = a  b\n",
    "    c  d\n",
    "    \n",
    "    For matrix A, determinant is calculated as ad-bc"
   ]
  },
  {
   "cell_type": "code",
   "execution_count": 2,
   "metadata": {},
   "outputs": [],
   "source": [
    "import numpy as np"
   ]
  },
  {
   "cell_type": "code",
   "execution_count": 4,
   "metadata": {},
   "outputs": [
    {
     "data": {
      "text/plain": [
       "0.0"
      ]
     },
     "execution_count": 4,
     "metadata": {},
     "output_type": "execute_result"
    }
   ],
   "source": [
    "A = [[1,2],[1,2]]\n",
    "np.linalg.det(A)\n",
    "\n",
    "#determinant = ad-bc\n"
   ]
  },
  {
   "cell_type": "code",
   "execution_count": 5,
   "metadata": {},
   "outputs": [],
   "source": [
    "import numpy as np\n",
    "from numpy.random import randint"
   ]
  },
  {
   "cell_type": "code",
   "execution_count": 8,
   "metadata": {},
   "outputs": [
    {
     "name": "stdout",
     "output_type": "stream",
     "text": [
      "[[6 8 8 2 2]\n",
      " [2 6 2 9 2]\n",
      " [6 9 9 2 3]\n",
      " [3 9 5 1 8]\n",
      " [6 8 3 6 8]]\n"
     ]
    },
    {
     "data": {
      "text/plain": [
       "-1084.0000000000002"
      ]
     },
     "execution_count": 8,
     "metadata": {},
     "output_type": "execute_result"
    }
   ],
   "source": [
    "#Lets generate random matrix of size 5\n",
    "\n",
    "M1 = randint(1,10,25).reshape(5,5)\n",
    "print(M1)\n",
    "np.linalg.det(M1)"
   ]
  },
  {
   "cell_type": "code",
   "execution_count": 12,
   "metadata": {},
   "outputs": [
    {
     "name": "stdout",
     "output_type": "stream",
     "text": [
      "[[ 9 17  4 12  8]\n",
      " [ 1 15 18  8 18]\n",
      " [11 12  9  6 19]\n",
      " [15 19 12 16  5]\n",
      " [15  6 17  4 11]]\n"
     ]
    },
    {
     "data": {
      "text/plain": [
       "-44032.000000000015"
      ]
     },
     "execution_count": 12,
     "metadata": {},
     "output_type": "execute_result"
    }
   ],
   "source": [
    "M2 = randint(1,20,25).reshape(5,5)\n",
    "print(M2)\n",
    "np.linalg.det(M2)"
   ]
  },
  {
   "cell_type": "code",
   "execution_count": 16,
   "metadata": {},
   "outputs": [
    {
     "name": "stdout",
     "output_type": "stream",
     "text": [
      "1.0\n"
     ]
    },
    {
     "data": {
      "text/plain": [
       "1.0"
      ]
     },
     "execution_count": 16,
     "metadata": {},
     "output_type": "execute_result"
    }
   ],
   "source": [
    "#Now let us try to generate an identity matrix and calculate the determinant\n",
    "\n",
    "I = np.eye(3)\n",
    "print(np.linalg.det(I))\n",
    "\n",
    "I2 = np.eye(7)\n",
    "np.linalg.det(I2)\n",
    "\n",
    "#it is clear that determinant of an identity matrix will always be zero."
   ]
  },
  {
   "cell_type": "code",
   "execution_count": 23,
   "metadata": {},
   "outputs": [
    {
     "data": {
      "text/plain": [
       "60.35707401520241"
      ]
     },
     "execution_count": 23,
     "metadata": {},
     "output_type": "execute_result"
    }
   ],
   "source": [
    "M3 = randint(1,100,100).reshape(10,10)\n",
    "\n",
    "#make the matrix linear dependent\n",
    "M3[:,1] = M3[:,2]\n",
    "np.linalg.det(M3)"
   ]
  },
  {
   "cell_type": "code",
   "execution_count": null,
   "metadata": {},
   "outputs": [],
   "source": []
  }
 ],
 "metadata": {
  "kernelspec": {
   "display_name": "Python 3",
   "language": "python",
   "name": "python3"
  },
  "language_info": {
   "codemirror_mode": {
    "name": "ipython",
    "version": 3
   },
   "file_extension": ".py",
   "mimetype": "text/x-python",
   "name": "python",
   "nbconvert_exporter": "python",
   "pygments_lexer": "ipython3",
   "version": "3.7.3"
  }
 },
 "nbformat": 4,
 "nbformat_minor": 2
}

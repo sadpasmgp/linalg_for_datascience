{
 "cells": [
  {
   "cell_type": "markdown",
   "metadata": {},
   "source": [
    "\n",
    "---\n",
    "# Vector length\n",
    "---\n"
   ]
  },
  {
   "cell_type": "code",
   "execution_count": 2,
   "metadata": {},
   "outputs": [],
   "source": [
    "import numpy as np\n",
    "import matplotlib.pyplot as plt\n",
    "from mpl_toolkits.mplot3d import Axes3D"
   ]
  },
  {
   "cell_type": "markdown",
   "metadata": {},
   "source": [
    "Computing the length of vector, also called norm or magnitude of vector.\n",
    "\n",
    "To compute norm or length of vector = ||v|| = sqrt((v.T)v)\n",
    "\n",
    "Assuming the length of vector is hypotenuse, by pythagorean theorem,\n",
    "hyp**2 = adj**2+opp**2\n"
   ]
  },
  {
   "cell_type": "markdown",
   "metadata": {},
   "source": [
    "For the vector v = [2, 3], |v| = sqrt(2*2 + 3*3) = sqrt(13) = 3.6"
   ]
  },
  {
   "cell_type": "code",
   "execution_count": 4,
   "metadata": {},
   "outputs": [
    {
     "name": "stdout",
     "output_type": "stream",
     "text": [
      "9.539392014169456\n"
     ]
    }
   ],
   "source": [
    "# a vector\n",
    "v1 = np.array([ 1, 2, 3, 4, 5, 6])\n",
    "\n",
    "# ||v|| = sqrt((v.T)v)\n",
    "vl = np.sqrt( sum( np.multiply(v1,v1)) )\n",
    "\n",
    "print(vl)"
   ]
  },
  {
   "cell_type": "code",
   "execution_count": 8,
   "metadata": {},
   "outputs": [
    {
     "name": "stdout",
     "output_type": "stream",
     "text": [
      "9.539392014169456\n"
     ]
    }
   ],
   "source": [
    "#Another way to calculate is by calling norm method\n",
    "\n",
    "v = np.linalg.norm(v1)\n",
    "\n",
    "print(v)"
   ]
  },
  {
   "cell_type": "code",
   "execution_count": 62,
   "metadata": {},
   "outputs": [
    {
     "data": {
      "image/png": "[encoded data removed]",
      "text/plain": [
       "<Figure size 432x288 with 1 Axes>"
      ]
     },
     "metadata": {
      "needs_background": "light"
     },
     "output_type": "display_data"
    }
   ],
   "source": [
    "#create a 2D vector and plot it and calculate the length from both geometric and algebraic way\n",
    "\n",
    "v3 = [0,3]\n",
    "\n",
    "plt.plot([0,v3[0]],[0,v3[1]])\n",
    "plt.plot([-4, 4],[0, 0],'k--')\n",
    "plt.plot([0, 0],[-4, 4],'k--')\n",
    "plt.grid()\n",
    "plt.axis((-4, 4, -4, 4))\n",
    "plt.show()"
   ]
  },
  {
   "cell_type": "code",
   "execution_count": 63,
   "metadata": {},
   "outputs": [
    {
     "data": {
      "text/plain": [
       "3.0"
      ]
     },
     "execution_count": 63,
     "metadata": {},
     "output_type": "execute_result"
    }
   ],
   "source": [
    "np.linalg.norm(v3)"
   ]
  },
  {
   "cell_type": "code",
   "execution_count": 64,
   "metadata": {},
   "outputs": [
    {
     "data": {
      "text/plain": [
       "3.0"
      ]
     },
     "execution_count": 64,
     "metadata": {},
     "output_type": "execute_result"
    }
   ],
   "source": [
    "np.sqrt( sum( np.multiply(v3,v3)) )"
   ]
  },
  {
   "cell_type": "markdown",
   "metadata": {},
   "source": [
    "In order to show it geometrically, we will use the vector (0,3) which means the vector co-incides with grid line(without grid line the same vector is show below) and it is clear that both norm from formula and geometric norm as same."
   ]
  },
  {
   "cell_type": "code",
   "execution_count": 71,
   "metadata": {},
   "outputs": [
    {
     "data": {
      "image/png": "[encoded data removed]",
      "text/plain": [
       "<Figure size 432x288 with 1 Axes>"
      ]
     },
     "metadata": {
      "needs_background": "light"
     },
     "output_type": "display_data"
    }
   ],
   "source": [
    "v3 = [0,3]\n",
    "\n",
    "plt.plot([0,v3[0]],[0,v3[1]],'r')\n",
    "#plt.plot([-4, 4],[0, 0],'k--')\n",
    "#plt.plot([0, 0],[-4, 4],'k--')\n",
    "plt.grid()\n",
    "plt.axis((-4, 4, -4, 4))\n",
    "plt.show()"
   ]
  }
 ],
 "metadata": {
  "kernelspec": {
   "display_name": "Python 3",
   "language": "python",
   "name": "python3"
  },
  "language_info": {
   "codemirror_mode": {
    "name": "ipython",
    "version": 3
   },
   "file_extension": ".py",
   "mimetype": "text/x-python",
   "name": "python",
   "nbconvert_exporter": "python",
   "pygments_lexer": "ipython3",
   "version": "3.7.3"
  }
 },
 "nbformat": 4,
 "nbformat_minor": 2
}

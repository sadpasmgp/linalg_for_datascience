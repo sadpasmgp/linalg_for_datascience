{
 "cells": [
  {
   "cell_type": "code",
   "execution_count": 17,
   "metadata": {},
   "outputs": [],
   "source": [
    "import numpy as np\n",
    "import matplotlib.pyplot as plt\n",
    "import math"
   ]
  },
  {
   "cell_type": "markdown",
   "metadata": {},
   "source": [
    "Matrix multiplication is not commutative AB!=BA\n",
    "A(MXN) and B(NXK), matrix multiplication is valid only if inner dimensions match. resultant matrix will have MXK dimensions"
   ]
  },
  {
   "cell_type": "markdown",
   "metadata": {},
   "source": [
    "###### 4 ways to think about matrix multiplication:\n",
    "\n",
    "    1. Ordered collection of dot products of rows between left and columns of right matrix\n",
    "    \n",
    "          0  1  X  a  b    =  0a+1c  0b+1d\n",
    "          2  3     c  d       2a+3c  2b+3d\n",
    "          \n",
    "    2. Build product matrix one layer at a time. Each layer has rank 1 of infomation at a time. \n",
    "    \n",
    "          0  1  X  a  b    =  0a  0b  +  1c  1d  =  0a+1c  0b+1d\n",
    "          2  3     c  d       2a  2b     3c  3d     2a+3c  2b+3d\n",
    "          \n",
    "    3. Column perspective\n",
    "          0  1  X  a  b    =  a* 0 + c* 1    b* 0 + d* 1  =   0a+1c  0b+1d\n",
    "          2  3     c  d          2      3       2      3      2a+3c  2b+3d\n",
    "          \n",
    "    4. row perspective\n",
    "         0  1  X  a  b   = 0[a b] + 1[c d]  =  0a+1c  0b+1d\n",
    "         2  3     c  d     2[a b]   3[c d]     2a+3c  2b+3d\n",
    "         "
   ]
  },
  {
   "cell_type": "code",
   "execution_count": 20,
   "metadata": {},
   "outputs": [
    {
     "data": {
      "text/plain": [
       "array([[ 6, 11,  8],\n",
       "       [12, 22, 16],\n",
       "       [ 9, 10, 10]])"
      ]
     },
     "execution_count": 20,
     "metadata": {},
     "output_type": "execute_result"
    }
   ],
   "source": [
    "#implement matrix multiplication via layers method\n",
    "\n",
    "A = np.random.randint(1,5,6).reshape(3,2)\n",
    "B = np.random.randint(1,5,6).reshape(2,3)\n",
    "\n",
    "np.matmul(A,B)"
   ]
  },
  {
   "cell_type": "code",
   "execution_count": 22,
   "metadata": {},
   "outputs": [
    {
     "data": {
      "text/plain": [
       "array([[ 2,  8,  4,  8,  6,  8],\n",
       "       [ 1,  4,  2,  4,  3,  4],\n",
       "       [ 4, 16,  8, 16, 12, 16],\n",
       "       [ 2,  8,  4,  8,  6,  8],\n",
       "       [ 1,  4,  2,  4,  3,  4],\n",
       "       [ 2,  8,  4,  8,  6,  8]])"
      ]
     },
     "execution_count": 22,
     "metadata": {},
     "output_type": "execute_result"
    }
   ],
   "source": [
    "np.outer(A,B)"
   ]
  },
  {
   "cell_type": "code",
   "execution_count": 23,
   "metadata": {},
   "outputs": [
    {
     "data": {
      "text/plain": [
       "array([[-1.22821202, -0.19578241, -4.12270654,  0.55383891,  0.81977427,\n",
       "        -1.86632717],\n",
       "       [-1.45092976, -1.8391633 , -2.2242761 ,  0.1030103 ,  0.91694529,\n",
       "        -1.28115482],\n",
       "       [ 0.03855548, -1.76813419,  0.67809676, -0.37297453,  0.33117891,\n",
       "         0.19903598],\n",
       "       [-0.27129437, -0.25767705,  0.16373087, -0.02807959,  0.04832392,\n",
       "        -0.0216906 ]])"
      ]
     },
     "execution_count": 23,
     "metadata": {},
     "output_type": "execute_result"
    }
   ],
   "source": [
    "## rules for multiplication validity\n",
    "\n",
    "m = 4\n",
    "n = 3\n",
    "k = 6\n",
    "\n",
    "# make some matrices\n",
    "A = np.random.randn(m,n)\n",
    "B = np.random.randn(n,k)\n",
    "C = np.random.randn(m,k)\n",
    "\n",
    "# test which multiplications are valid.\n",
    "# Think of your answer first, then test.\n",
    "np.matmul(A,B)\n"
   ]
  },
  {
   "cell_type": "code",
   "execution_count": 24,
   "metadata": {},
   "outputs": [
    {
     "ename": "ValueError",
     "evalue": "matmul: Input operand 1 has a mismatch in its core dimension 0, with gufunc signature (n?,k),(k,m?)->(n?,m?) (size 4 is different from 3)",
     "output_type": "error",
     "traceback": [
      "\u001b[1;31m---------------------------------------------------------------------------\u001b[0m",
      "\u001b[1;31mValueError\u001b[0m                                Traceback (most recent call last)",
      "\u001b[1;32m<ipython-input-24-0ac2e3ccd0a6>\u001b[0m in \u001b[0;36m<module>\u001b[1;34m\u001b[0m\n\u001b[1;32m----> 1\u001b[1;33m \u001b[0mnp\u001b[0m\u001b[1;33m.\u001b[0m\u001b[0mmatmul\u001b[0m\u001b[1;33m(\u001b[0m\u001b[0mA\u001b[0m\u001b[1;33m,\u001b[0m\u001b[0mA\u001b[0m\u001b[1;33m)\u001b[0m\u001b[1;33m\u001b[0m\u001b[1;33m\u001b[0m\u001b[0m\n\u001b[0m",
      "\u001b[1;31mValueError\u001b[0m: matmul: Input operand 1 has a mismatch in its core dimension 0, with gufunc signature (n?,k),(k,m?)->(n?,m?) (size 4 is different from 3)"
     ]
    }
   ],
   "source": [
    "np.matmul(A,A)\n"
   ]
  },
  {
   "cell_type": "code",
   "execution_count": 25,
   "metadata": {},
   "outputs": [
    {
     "data": {
      "text/plain": [
       "array([[-0.9915744 ,  4.2656038 , -0.40370788, -2.32206411,  1.439156  ,\n",
       "         3.41581789],\n",
       "       [-0.60394195, -2.35300704,  0.64264582,  0.33636668,  1.42489761,\n",
       "        -0.64109317],\n",
       "       [ 0.22586706,  4.5135904 , -1.59054356, -1.15329458, -0.51275537,\n",
       "         2.08362188]])"
      ]
     },
     "execution_count": 25,
     "metadata": {},
     "output_type": "execute_result"
    }
   ],
   "source": [
    "np.matmul(np.matrix.transpose(A),C)\n"
   ]
  },
  {
   "cell_type": "code",
   "execution_count": 26,
   "metadata": {},
   "outputs": [
    {
     "data": {
      "text/plain": [
       "array([[ 3.88473224,  1.66300882, -4.47765409],\n",
       "       [ 1.66300882,  2.54823962, -0.73698784],\n",
       "       [-4.47765409, -0.73698784,  7.58739619]])"
      ]
     },
     "execution_count": 26,
     "metadata": {},
     "output_type": "execute_result"
    }
   ],
   "source": [
    "np.matmul(B,np.matrix.transpose(B))\n"
   ]
  },
  {
   "cell_type": "code",
   "execution_count": 27,
   "metadata": {},
   "outputs": [
    {
     "data": {
      "text/plain": [
       "array([[ 1.33552445, -0.93028251,  0.44441402, -0.36323399,  0.10487809,\n",
       "         0.49224316],\n",
       "       [-0.93028251,  2.66993648,  2.73360498,  0.26725659, -1.1198525 ,\n",
       "         0.85655371],\n",
       "       [ 0.44441402,  2.73360498,  7.9039575 , -0.43792253, -2.0947383 ,\n",
       "         3.14598919],\n",
       "       [-0.36323399,  0.26725659, -0.43792253,  0.13496771,  0.02316173,\n",
       "        -0.25087122],\n",
       "       [ 0.10487809, -1.1198525 , -2.0947383 ,  0.02316173,  0.64686925,\n",
       "        -0.78767039],\n",
       "       [ 0.49224316,  0.85655371,  3.14598919, -0.25087122, -0.78767039,\n",
       "         1.32911266]])"
      ]
     },
     "execution_count": 27,
     "metadata": {},
     "output_type": "execute_result"
    }
   ],
   "source": [
    "np.matmul(np.matrix.transpose(B),B)\n"
   ]
  },
  {
   "cell_type": "code",
   "execution_count": 28,
   "metadata": {},
   "outputs": [
    {
     "ename": "ValueError",
     "evalue": "matmul: Input operand 1 has a mismatch in its core dimension 0, with gufunc signature (n?,k),(k,m?)->(n?,m?) (size 4 is different from 6)",
     "output_type": "error",
     "traceback": [
      "\u001b[1;31m---------------------------------------------------------------------------\u001b[0m",
      "\u001b[1;31mValueError\u001b[0m                                Traceback (most recent call last)",
      "\u001b[1;32m<ipython-input-28-5eababb7341e>\u001b[0m in \u001b[0;36m<module>\u001b[1;34m\u001b[0m\n\u001b[1;32m----> 1\u001b[1;33m \u001b[0mnp\u001b[0m\u001b[1;33m.\u001b[0m\u001b[0mmatmul\u001b[0m\u001b[1;33m(\u001b[0m\u001b[0mB\u001b[0m\u001b[1;33m,\u001b[0m\u001b[0mC\u001b[0m\u001b[1;33m)\u001b[0m\u001b[1;33m\u001b[0m\u001b[1;33m\u001b[0m\u001b[0m\n\u001b[0m",
      "\u001b[1;31mValueError\u001b[0m: matmul: Input operand 1 has a mismatch in its core dimension 0, with gufunc signature (n?,k),(k,m?)->(n?,m?) (size 4 is different from 6)"
     ]
    }
   ],
   "source": [
    "np.matmul(B,C)\n"
   ]
  },
  {
   "cell_type": "code",
   "execution_count": 29,
   "metadata": {},
   "outputs": [
    {
     "ename": "ValueError",
     "evalue": "matmul: Input operand 1 has a mismatch in its core dimension 0, with gufunc signature (n?,k),(k,m?)->(n?,m?) (size 3 is different from 6)",
     "output_type": "error",
     "traceback": [
      "\u001b[1;31m---------------------------------------------------------------------------\u001b[0m",
      "\u001b[1;31mValueError\u001b[0m                                Traceback (most recent call last)",
      "\u001b[1;32m<ipython-input-29-ad3bdca3fbdb>\u001b[0m in \u001b[0;36m<module>\u001b[1;34m\u001b[0m\n\u001b[1;32m----> 1\u001b[1;33m \u001b[0mnp\u001b[0m\u001b[1;33m.\u001b[0m\u001b[0mmatmul\u001b[0m\u001b[1;33m(\u001b[0m\u001b[0mC\u001b[0m\u001b[1;33m,\u001b[0m\u001b[0mB\u001b[0m\u001b[1;33m)\u001b[0m\u001b[1;33m\u001b[0m\u001b[1;33m\u001b[0m\u001b[0m\n\u001b[0m",
      "\u001b[1;31mValueError\u001b[0m: matmul: Input operand 1 has a mismatch in its core dimension 0, with gufunc signature (n?,k),(k,m?)->(n?,m?) (size 3 is different from 6)"
     ]
    }
   ],
   "source": [
    "np.matmul(C,B)\n"
   ]
  },
  {
   "cell_type": "code",
   "execution_count": 30,
   "metadata": {},
   "outputs": [
    {
     "ename": "ValueError",
     "evalue": "matmul: Input operand 1 has a mismatch in its core dimension 0, with gufunc signature (n?,k),(k,m?)->(n?,m?) (size 3 is different from 4)",
     "output_type": "error",
     "traceback": [
      "\u001b[1;31m---------------------------------------------------------------------------\u001b[0m",
      "\u001b[1;31mValueError\u001b[0m                                Traceback (most recent call last)",
      "\u001b[1;32m<ipython-input-30-f8e9fb09486f>\u001b[0m in \u001b[0;36m<module>\u001b[1;34m\u001b[0m\n\u001b[1;32m----> 1\u001b[1;33m \u001b[0mnp\u001b[0m\u001b[1;33m.\u001b[0m\u001b[0mmatmul\u001b[0m\u001b[1;33m(\u001b[0m\u001b[0mnp\u001b[0m\u001b[1;33m.\u001b[0m\u001b[0mmatrix\u001b[0m\u001b[1;33m.\u001b[0m\u001b[0mtranspose\u001b[0m\u001b[1;33m(\u001b[0m\u001b[0mC\u001b[0m\u001b[1;33m)\u001b[0m\u001b[1;33m,\u001b[0m\u001b[0mB\u001b[0m\u001b[1;33m)\u001b[0m\u001b[1;33m\u001b[0m\u001b[1;33m\u001b[0m\u001b[0m\n\u001b[0m",
      "\u001b[1;31mValueError\u001b[0m: matmul: Input operand 1 has a mismatch in its core dimension 0, with gufunc signature (n?,k),(k,m?)->(n?,m?) (size 3 is different from 4)"
     ]
    }
   ],
   "source": [
    "np.matmul(np.matrix.transpose(C),B)\n"
   ]
  },
  {
   "cell_type": "code",
   "execution_count": 31,
   "metadata": {},
   "outputs": [
    {
     "data": {
      "text/plain": [
       "array([[-2.50864186, -1.41720695,  1.07203103],\n",
       "       [ 1.7116417 ,  0.95774667, -2.59599633],\n",
       "       [-2.59021659, -2.22692391, -0.23706225],\n",
       "       [ 1.90667584, -0.73597997, -3.61894692]])"
      ]
     },
     "execution_count": 31,
     "metadata": {},
     "output_type": "execute_result"
    }
   ],
   "source": [
    "np.matmul(C,np.matrix.transpose(B))"
   ]
  },
  {
   "cell_type": "code",
   "execution_count": null,
   "metadata": {},
   "outputs": [],
   "source": []
  },
  {
   "cell_type": "code",
   "execution_count": null,
   "metadata": {},
   "outputs": [],
   "source": []
  }
 ],
 "metadata": {
  "kernelspec": {
   "display_name": "Python 3",
   "language": "python",
   "name": "python3"
  },
  "language_info": {
   "codemirror_mode": {
    "name": "ipython",
    "version": 3
   },
   "file_extension": ".py",
   "mimetype": "text/x-python",
   "name": "python",
   "nbconvert_exporter": "python",
   "pygments_lexer": "ipython3",
   "version": "3.7.3"
  }
 },
 "nbformat": 4,
 "nbformat_minor": 2
}
